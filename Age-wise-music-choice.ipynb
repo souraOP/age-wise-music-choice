{
 "cells": [
  {
   "cell_type": "code",
   "execution_count": 152,
   "id": "bae7f501",
   "metadata": {},
   "outputs": [],
   "source": [
    "import pandas as pd\n",
    "import numpy as np\n",
    "from sklearn.tree import DecisionTreeClassifier\n",
    "from sklearn.model_selection import train_test_split \n",
    "from sklearn.metrics import accuracy_score\n",
    "\n",
    "dataset = pd.read_csv('music.csv')\n",
    "X = dataset.drop(columns=['genre'])\n",
    "Y = dataset['genre']\n",
    "X_train, X_test, Y_train, Y_test = train_test_split(X, Y, test_size=0.2)"
   ]
  },
  {
   "cell_type": "code",
   "execution_count": 153,
   "id": "fc1f7fa6",
   "metadata": {},
   "outputs": [
    {
     "data": {
      "text/plain": [
       "array(['Dance', 'Dance', 'Dance', 'Classical', 'Acoustic', 'Dance',\n",
       "       'Dance', 'Acoustic', 'Classical', 'Dance', 'Classical', 'Dance',\n",
       "       'Acoustic', 'Acoustic', 'Acoustic'], dtype=object)"
      ]
     },
     "execution_count": 153,
     "metadata": {},
     "output_type": "execute_result"
    }
   ],
   "source": [
    "model = DecisionTreeClassifier()\n",
    "model.fit(X_train, Y_train)\n",
    "prediction = model.predict(X_test)\n",
    "prediction"
   ]
  },
  {
   "cell_type": "code",
   "execution_count": 161,
   "id": "f2a770b5",
   "metadata": {},
   "outputs": [
    {
     "data": {
      "text/plain": [
       "0.4"
      ]
     },
     "execution_count": 161,
     "metadata": {},
     "output_type": "execute_result"
    }
   ],
   "source": [
    "# to make predictions we need to split the dataset into two sets namely the 1. Training Set and 2. Testing Set\n",
    "# General rule of thumb is that to allocate 70 to 80% of our to training and the remaining to testing\n",
    "modelAccuracy = accuracy_score(Y_test, prediction)\n",
    "modelAccuracy\n"
   ]
  }
 ],
 "metadata": {
  "kernelspec": {
   "display_name": "Python 3 (ipykernel)",
   "language": "python",
   "name": "python3"
  },
  "language_info": {
   "codemirror_mode": {
    "name": "ipython",
    "version": 3
   },
   "file_extension": ".py",
   "mimetype": "text/x-python",
   "name": "python",
   "nbconvert_exporter": "python",
   "pygments_lexer": "ipython3",
   "version": "3.10.9"
  }
 },
 "nbformat": 4,
 "nbformat_minor": 5
}
